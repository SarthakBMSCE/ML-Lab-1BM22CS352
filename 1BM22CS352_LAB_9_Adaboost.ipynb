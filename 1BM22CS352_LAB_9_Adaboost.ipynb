{
  "nbformat": 4,
  "nbformat_minor": 0,
  "metadata": {
    "colab": {
      "provenance": [],
      "authorship_tag": "ABX9TyOHuj5pjWZ2fl7VhYmd/43Y",
      "include_colab_link": true
    },
    "kernelspec": {
      "name": "python3",
      "display_name": "Python 3"
    },
    "language_info": {
      "name": "python"
    }
  },
  "cells": [
    {
      "cell_type": "markdown",
      "metadata": {
        "id": "view-in-github",
        "colab_type": "text"
      },
      "source": [
        "<a href=\"https://colab.research.google.com/github/SarthakBMSCE/ML-Lab-1BM22CS352/blob/main/1BM22CS352_LAB_9_Adaboost.ipynb\" target=\"_parent\"><img src=\"https://colab.research.google.com/assets/colab-badge.svg\" alt=\"Open In Colab\"/></a>"
      ]
    },
    {
      "cell_type": "code",
      "execution_count": 1,
      "metadata": {
        "id": "kYb5XpJHt6Ts",
        "colab": {
          "base_uri": "https://localhost:8080/"
        },
        "outputId": "302a6408-5f3f-40a4-b10d-118ec679b72b"
      },
      "outputs": [
        {
          "output_type": "stream",
          "name": "stdout",
          "text": [
            "   age  fnlwgt  education_num  capital_gain  capital_loss  hours_per_week  \\\n",
            "0   39   77516             13          2174             0              40   \n",
            "1   50   83311             13             0             0              13   \n",
            "2   38  215646              9             0             0              40   \n",
            "3   53  234721              7             0             0              40   \n",
            "4   28  338409             13             0             0              40   \n",
            "\n",
            "   income_level  \n",
            "0             0  \n",
            "1             0  \n",
            "2             0  \n",
            "3             0  \n",
            "4             0  \n"
          ]
        }
      ],
      "source": [
        "import pandas as pd\n",
        "from sklearn.model_selection import train_test_split\n",
        "from sklearn.preprocessing import LabelEncoder\n",
        "from sklearn.ensemble import AdaBoostClassifier\n",
        "from sklearn.tree import DecisionTreeClassifier\n",
        "from sklearn.linear_model import LogisticRegression\n",
        "from sklearn.metrics import accuracy_score, confusion_matrix\n",
        "from sklearn.ensemble import  RandomForestClassifier\n",
        "# Load the data (assume \"income.csv\" is already downloaded)\n",
        "df = pd.read_csv('income.csv')\n",
        "\n",
        "# Let's check the columns to see what we're dealing with\n",
        "print(df.head())\n",
        "\n",
        "# Preprocessing: Encode categorical data if necessary (in this case 'income_level' is categorical)\n",
        "encoder = LabelEncoder()\n",
        "df['income_level'] = encoder.fit_transform(df['income_level'])\n",
        "\n",
        "# Splitting the data into features (X) and target (y)\n",
        "X = df.drop('income_level', axis=1)\n",
        "y = df['income_level']\n",
        "\n",
        "# Split the data into 80% training and 20% testing\n",
        "X_train, X_test, y_train, y_test = train_test_split(X, y, test_size=0.2, random_state=42)\n"
      ]
    },
    {
      "cell_type": "code",
      "source": [
        "# Initialize the AdaBoost model with Random Forest as the base classifier\n",
        "ada_boost = AdaBoostClassifier(RandomForestClassifier(n_estimators=10, max_depth=5, random_state=42), n_estimators=50, learning_rate=1.0)\n",
        "\n",
        "# Train the AdaBoost model\n",
        "ada_boost.fit(X_train, y_train)\n",
        "\n",
        "# Predictions\n",
        "y_pred = ada_boost.predict(X_test)\n",
        "\n",
        "# Evaluate accuracy and confusion matrix\n",
        "accuracy = accuracy_score(y_test, y_pred)\n",
        "conf_matrix = confusion_matrix(y_test, y_pred)\n",
        "\n",
        "print(f\"Accuracy: {accuracy}\")\n",
        "print(f\"Confusion Matrix:\\n{conf_matrix}\")\n"
      ],
      "metadata": {
        "colab": {
          "base_uri": "https://localhost:8080/"
        },
        "id": "cXg1Uz-3u0qZ",
        "outputId": "1e0ca311-402f-40e5-a891-53c4c02bec11"
      },
      "execution_count": 2,
      "outputs": [
        {
          "output_type": "stream",
          "name": "stdout",
          "text": [
            "Accuracy: 0.8365236974101751\n",
            "Confusion Matrix:\n",
            "[[6957  457]\n",
            " [1140 1215]]\n"
          ]
        }
      ]
    },
    {
      "cell_type": "code",
      "source": [
        "from sklearn.datasets import load_iris\n",
        "from sklearn.model_selection import train_test_split\n",
        "from sklearn.ensemble import AdaBoostClassifier\n",
        "from sklearn.tree import DecisionTreeClassifier\n",
        "from sklearn.metrics import accuracy_score\n",
        "\n",
        "# Load the Iris dataset\n",
        "iris = load_iris()\n",
        "X = iris.data\n",
        "y = iris.target\n",
        "\n",
        "# Split the dataset into 80% training and 20% testing\n",
        "X_train, X_test, y_train, y_test = train_test_split(X, y, test_size=0.2, random_state=42)\n",
        "\n",
        "base_classifier = RandomForestClassifier(n_estimators=10, max_depth=5, random_state=42)\n",
        "# Initialize AdaBoost with Decision Tree as base classifier\n",
        "ada_boost = AdaBoostClassifier(base_classifier, n_estimators=50)\n",
        "\n",
        "# Train the model\n",
        "ada_boost.fit(X_train, y_train)\n",
        "\n",
        "# Evaluate accuracy on the test set\n",
        "y_pred = ada_boost.predict(X_test)\n",
        "accuracy = accuracy_score(y_test, y_pred)\n",
        "\n",
        "print(f\"Accuracy of AdaBoost on Iris dataset: {accuracy}\")\n"
      ],
      "metadata": {
        "colab": {
          "base_uri": "https://localhost:8080/"
        },
        "id": "ULZPaY0qu6Ie",
        "outputId": "c8db4d2d-b3a6-4fdf-bbaf-2d7c7f9011d9"
      },
      "execution_count": 3,
      "outputs": [
        {
          "output_type": "stream",
          "name": "stdout",
          "text": [
            "Accuracy of AdaBoost on Iris dataset: 1.0\n"
          ]
        }
      ]
    },
    {
      "cell_type": "code",
      "source": [
        "# Varying n_estimators and measuring the accuracy\n",
        "estimators = [10, 50, 100, 200, 500]\n",
        "for n in estimators:\n",
        "    ada_boost = AdaBoostClassifier(base_classifier, n_estimators=n)\n",
        "    ada_boost.fit(X_train, y_train)\n",
        "    y_pred = ada_boost.predict(X_test)\n",
        "    accuracy = accuracy_score(y_test, y_pred)\n",
        "    print(f\"Accuracy with n_estimators={n}: {accuracy}\")\n"
      ],
      "metadata": {
        "colab": {
          "base_uri": "https://localhost:8080/"
        },
        "id": "kHE5DL75u9_W",
        "outputId": "87ad2f51-a97c-4a63-fea0-de21f68bd300"
      },
      "execution_count": 4,
      "outputs": [
        {
          "output_type": "stream",
          "name": "stdout",
          "text": [
            "Accuracy with n_estimators=10: 1.0\n",
            "Accuracy with n_estimators=50: 1.0\n",
            "Accuracy with n_estimators=100: 1.0\n",
            "Accuracy with n_estimators=200: 0.9666666666666667\n",
            "Accuracy with n_estimators=500: 1.0\n"
          ]
        }
      ]
    },
    {
      "cell_type": "code",
      "source": [
        "# Varying n_estimators and learning_rate\n",
        "learning_rates = [0.1, 0.5, 1.0, 1.5]\n",
        "n_estimators_values = [50, 100, 200]\n",
        "\n",
        "for lr in learning_rates:\n",
        "    for n in n_estimators_values:\n",
        "        ada_boost = AdaBoostClassifier(base_classifier,\n",
        "                                      n_estimators=n, learning_rate=lr)\n",
        "        ada_boost.fit(X_train, y_train)\n",
        "        y_pred = ada_boost.predict(X_test)\n",
        "        accuracy = accuracy_score(y_test, y_pred)\n",
        "        print(f\"Accuracy with n_estimators={n} and learning_rate={lr}: {accuracy}\")\n"
      ],
      "metadata": {
        "colab": {
          "base_uri": "https://localhost:8080/"
        },
        "id": "y8Ra1HLwvEKL",
        "outputId": "4968f364-a3f6-4737-89b0-f21ff233d04e"
      },
      "execution_count": 5,
      "outputs": [
        {
          "output_type": "stream",
          "name": "stdout",
          "text": [
            "Accuracy with n_estimators=50 and learning_rate=0.1: 1.0\n",
            "Accuracy with n_estimators=100 and learning_rate=0.1: 1.0\n",
            "Accuracy with n_estimators=200 and learning_rate=0.1: 1.0\n",
            "Accuracy with n_estimators=50 and learning_rate=0.5: 1.0\n",
            "Accuracy with n_estimators=100 and learning_rate=0.5: 1.0\n",
            "Accuracy with n_estimators=200 and learning_rate=0.5: 1.0\n",
            "Accuracy with n_estimators=50 and learning_rate=1.0: 1.0\n",
            "Accuracy with n_estimators=100 and learning_rate=1.0: 1.0\n",
            "Accuracy with n_estimators=200 and learning_rate=1.0: 1.0\n",
            "Accuracy with n_estimators=50 and learning_rate=1.5: 1.0\n",
            "Accuracy with n_estimators=100 and learning_rate=1.5: 1.0\n",
            "Accuracy with n_estimators=200 and learning_rate=1.5: 1.0\n"
          ]
        }
      ]
    },
    {
      "cell_type": "code",
      "source": [
        "from sklearn.linear_model import LogisticRegression\n",
        "\n",
        "# Using Logistic Regression as base estimator in AdaBoost\n",
        "ada_boost_lr = AdaBoostClassifier(LogisticRegression(max_iter=1000), n_estimators=50)\n",
        "ada_boost_lr.fit(X_train, y_train)\n",
        "y_pred_lr = ada_boost_lr.predict(X_test)\n",
        "accuracy_lr = accuracy_score(y_test, y_pred_lr)\n",
        "print(f\"Accuracy with Logistic Regression base estimator: {accuracy_lr}\")\n"
      ],
      "metadata": {
        "colab": {
          "base_uri": "https://localhost:8080/"
        },
        "id": "kOPQzaODvGmv",
        "outputId": "208e2803-197f-465e-f0e8-a0d8326ef0f0"
      },
      "execution_count": 6,
      "outputs": [
        {
          "output_type": "stream",
          "name": "stdout",
          "text": [
            "Accuracy with Logistic Regression base estimator: 0.9333333333333333\n"
          ]
        }
      ]
    },
    {
      "cell_type": "code",
      "source": [
        "# Using Decision Tree as base estimator in AdaBoost\n",
        "ada_boost_tree = AdaBoostClassifier(DecisionTreeClassifier(max_depth=1), n_estimators=50)\n",
        "ada_boost_tree.fit(X_train, y_train)\n",
        "y_pred_tree = ada_boost_tree.predict(X_test)\n",
        "accuracy_tree = accuracy_score(y_test, y_pred_tree)\n",
        "print(f\"Accuracy with Decision Tree base estimator: {accuracy_tree}\")\n"
      ],
      "metadata": {
        "colab": {
          "base_uri": "https://localhost:8080/"
        },
        "id": "mLRYBsY-vIpR",
        "outputId": "a463245c-4dda-475c-98a2-90e69d5a3f5a"
      },
      "execution_count": 7,
      "outputs": [
        {
          "output_type": "stream",
          "name": "stdout",
          "text": [
            "Accuracy with Decision Tree base estimator: 0.9333333333333333\n"
          ]
        }
      ]
    },
    {
      "cell_type": "code",
      "source": [],
      "metadata": {
        "id": "1XGM6cXkvLKI"
      },
      "execution_count": null,
      "outputs": []
    }
  ]
}